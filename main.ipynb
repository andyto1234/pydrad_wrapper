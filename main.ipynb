{
 "cells": [
  {
   "cell_type": "code",
   "execution_count": 1,
   "metadata": {},
   "outputs": [],
   "source": [
    "import pathlib\n",
    "import tempfile\n",
    "\n",
    "import astropy.units as u\n",
    "from astropy.visualization import ImageNormalize, LogStretch\n",
    "\n",
    "from pydrad.configure import Configure\n",
    "from pydrad.configure.data import get_defaults\n",
    "from pydrad.configure.util import get_clean_hydrad, run_shell_command\n",
    "from pydrad.parse import Strand\n",
    "\n",
    "tmpdir = pathlib.Path('/Users/andysh.to/Script/Python_Script/pydrad_wrapper/hydards/')  # Change to wherever you want to save your clean HYDRAD copy\n",
    "from datetime import datetime\n",
    "hydrad_clean = tmpdir / f'HYDRAD_{datetime.now().strftime(\"%Y%m%d_%H%M%S\")}'\n",
    "\n",
    "get_clean_hydrad(hydrad_clean, base_path='/Users/andysh.to/Script/Python_Script/pydrad_wrapper/hydards/HYDRAD_ponderomotive')"
   ]
  },
  {
   "cell_type": "code",
   "execution_count": null,
   "metadata": {},
   "outputs": [],
   "source": []
  }
 ],
 "metadata": {
  "kernelspec": {
   "display_name": "hydrad-fip",
   "language": "python",
   "name": "python3"
  },
  "language_info": {
   "codemirror_mode": {
    "name": "ipython",
    "version": 3
   },
   "file_extension": ".py",
   "mimetype": "text/x-python",
   "name": "python",
   "nbconvert_exporter": "python",
   "pygments_lexer": "ipython3",
   "version": "3.11.9"
  }
 },
 "nbformat": 4,
 "nbformat_minor": 2
}
